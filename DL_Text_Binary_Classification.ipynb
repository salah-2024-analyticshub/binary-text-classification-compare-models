{
  "cells": [
    {
      "cell_type": "markdown",
      "metadata": {
        "id": "view-in-github",
        "colab_type": "text"
      },
      "source": [
        "<a href=\"https://colab.research.google.com/github/salah-2024-analyticshub/binary-text-classification-compare-models/blob/main/DL_Text_Binary_Classification.ipynb\" target=\"_parent\"><img src=\"https://colab.research.google.com/assets/colab-badge.svg\" alt=\"Open In Colab\"/></a>"
      ]
    },
    {
      "cell_type": "code",
      "source": [
        "import numpy as np\n",
        "import pandas as pd\n",
        "\n",
        "import tensorflow as tf\n",
        "import tensorflow_hub as hub\n",
        "\n",
        "import matplotlib.pyplot as plt\n",
        "\n",
        "print(\"Version: \", tf.__version__)\n",
        "print(\"Eager mode: \", tf.executing_eagerly())\n",
        "print(\"Hub version: \", hub.__version__)\n",
        "print(\"GPU is\", \"available\" if tf.config.list_physical_devices('GPU') else \"NOT AVAILABLE\")"
      ],
      "metadata": {
        "colab": {
          "base_uri": "https://localhost:8080/"
        },
        "id": "-PGQTVVT2LGs",
        "outputId": "0ce35c14-7412-410e-8840-d030b646f0ce"
      },
      "execution_count": 2,
      "outputs": [
        {
          "output_type": "stream",
          "name": "stdout",
          "text": [
            "Version:  2.15.0\n",
            "Eager mode:  True\n",
            "Hub version:  0.16.1\n",
            "GPU is NOT AVAILABLE\n"
          ]
        }
      ]
    },
    {
      "cell_type": "code",
      "source": [
        "from google.colab import drive\n",
        "drive.mount('/content/drive')"
      ],
      "metadata": {
        "colab": {
          "base_uri": "https://localhost:8080/"
        },
        "id": "k-Br-Rbdl97I",
        "outputId": "d2599fa9-bc03-43e8-8607-80244fe90de1"
      },
      "execution_count": 3,
      "outputs": [
        {
          "output_type": "stream",
          "name": "stdout",
          "text": [
            "Mounted at /content/drive\n"
          ]
        }
      ]
    },
    {
      "cell_type": "code",
      "source": [
        "dataset = pd.read_csv(\"/content/drive/MyDrive/imdb_reviews.csv\")\n",
        "dataset = dataset.rename(columns={'review': 'sentence', 'sentiment': 'flag'})\n",
        "dataset['flag'] = dataset['flag'].str.replace('positive', '1')\n",
        "dataset['flag'] = dataset['flag'].str.replace('negative', '0')\n",
        "dataset.head()"
      ],
      "metadata": {
        "colab": {
          "base_uri": "https://localhost:8080/",
          "height": 204
        },
        "id": "brcji1Lr2kAd",
        "outputId": "c14b40e4-900a-46cf-db28-00a56699b6ca"
      },
      "execution_count": 4,
      "outputs": [
        {
          "output_type": "execute_result",
          "data": {
            "text/plain": [
              "                                            sentence flag\n",
              "0  One of the other reviewers has mentioned that ...    1\n",
              "1  A wonderful little production. <br /><br />The...    1\n",
              "2  I thought this was a wonderful way to spend ti...    1\n",
              "3  Basically there's a family where a little boy ...    0\n",
              "4  Petter Mattei's \"Love in the Time of Money\" is...    1"
            ],
            "text/html": [
              "\n",
              "  <div id=\"df-28dec67b-624f-4f09-9755-4f7e49151eef\" class=\"colab-df-container\">\n",
              "    <div>\n",
              "<style scoped>\n",
              "    .dataframe tbody tr th:only-of-type {\n",
              "        vertical-align: middle;\n",
              "    }\n",
              "\n",
              "    .dataframe tbody tr th {\n",
              "        vertical-align: top;\n",
              "    }\n",
              "\n",
              "    .dataframe thead th {\n",
              "        text-align: right;\n",
              "    }\n",
              "</style>\n",
              "<table border=\"1\" class=\"dataframe\">\n",
              "  <thead>\n",
              "    <tr style=\"text-align: right;\">\n",
              "      <th></th>\n",
              "      <th>sentence</th>\n",
              "      <th>flag</th>\n",
              "    </tr>\n",
              "  </thead>\n",
              "  <tbody>\n",
              "    <tr>\n",
              "      <th>0</th>\n",
              "      <td>One of the other reviewers has mentioned that ...</td>\n",
              "      <td>1</td>\n",
              "    </tr>\n",
              "    <tr>\n",
              "      <th>1</th>\n",
              "      <td>A wonderful little production. &lt;br /&gt;&lt;br /&gt;The...</td>\n",
              "      <td>1</td>\n",
              "    </tr>\n",
              "    <tr>\n",
              "      <th>2</th>\n",
              "      <td>I thought this was a wonderful way to spend ti...</td>\n",
              "      <td>1</td>\n",
              "    </tr>\n",
              "    <tr>\n",
              "      <th>3</th>\n",
              "      <td>Basically there's a family where a little boy ...</td>\n",
              "      <td>0</td>\n",
              "    </tr>\n",
              "    <tr>\n",
              "      <th>4</th>\n",
              "      <td>Petter Mattei's \"Love in the Time of Money\" is...</td>\n",
              "      <td>1</td>\n",
              "    </tr>\n",
              "  </tbody>\n",
              "</table>\n",
              "</div>\n",
              "    <div class=\"colab-df-buttons\">\n",
              "\n",
              "  <div class=\"colab-df-container\">\n",
              "    <button class=\"colab-df-convert\" onclick=\"convertToInteractive('df-28dec67b-624f-4f09-9755-4f7e49151eef')\"\n",
              "            title=\"Convert this dataframe to an interactive table.\"\n",
              "            style=\"display:none;\">\n",
              "\n",
              "  <svg xmlns=\"http://www.w3.org/2000/svg\" height=\"24px\" viewBox=\"0 -960 960 960\">\n",
              "    <path d=\"M120-120v-720h720v720H120Zm60-500h600v-160H180v160Zm220 220h160v-160H400v160Zm0 220h160v-160H400v160ZM180-400h160v-160H180v160Zm440 0h160v-160H620v160ZM180-180h160v-160H180v160Zm440 0h160v-160H620v160Z\"/>\n",
              "  </svg>\n",
              "    </button>\n",
              "\n",
              "  <style>\n",
              "    .colab-df-container {\n",
              "      display:flex;\n",
              "      gap: 12px;\n",
              "    }\n",
              "\n",
              "    .colab-df-convert {\n",
              "      background-color: #E8F0FE;\n",
              "      border: none;\n",
              "      border-radius: 50%;\n",
              "      cursor: pointer;\n",
              "      display: none;\n",
              "      fill: #1967D2;\n",
              "      height: 32px;\n",
              "      padding: 0 0 0 0;\n",
              "      width: 32px;\n",
              "    }\n",
              "\n",
              "    .colab-df-convert:hover {\n",
              "      background-color: #E2EBFA;\n",
              "      box-shadow: 0px 1px 2px rgba(60, 64, 67, 0.3), 0px 1px 3px 1px rgba(60, 64, 67, 0.15);\n",
              "      fill: #174EA6;\n",
              "    }\n",
              "\n",
              "    .colab-df-buttons div {\n",
              "      margin-bottom: 4px;\n",
              "    }\n",
              "\n",
              "    [theme=dark] .colab-df-convert {\n",
              "      background-color: #3B4455;\n",
              "      fill: #D2E3FC;\n",
              "    }\n",
              "\n",
              "    [theme=dark] .colab-df-convert:hover {\n",
              "      background-color: #434B5C;\n",
              "      box-shadow: 0px 1px 3px 1px rgba(0, 0, 0, 0.15);\n",
              "      filter: drop-shadow(0px 1px 2px rgba(0, 0, 0, 0.3));\n",
              "      fill: #FFFFFF;\n",
              "    }\n",
              "  </style>\n",
              "\n",
              "    <script>\n",
              "      const buttonEl =\n",
              "        document.querySelector('#df-28dec67b-624f-4f09-9755-4f7e49151eef button.colab-df-convert');\n",
              "      buttonEl.style.display =\n",
              "        google.colab.kernel.accessAllowed ? 'block' : 'none';\n",
              "\n",
              "      async function convertToInteractive(key) {\n",
              "        const element = document.querySelector('#df-28dec67b-624f-4f09-9755-4f7e49151eef');\n",
              "        const dataTable =\n",
              "          await google.colab.kernel.invokeFunction('convertToInteractive',\n",
              "                                                    [key], {});\n",
              "        if (!dataTable) return;\n",
              "\n",
              "        const docLinkHtml = 'Like what you see? Visit the ' +\n",
              "          '<a target=\"_blank\" href=https://colab.research.google.com/notebooks/data_table.ipynb>data table notebook</a>'\n",
              "          + ' to learn more about interactive tables.';\n",
              "        element.innerHTML = '';\n",
              "        dataTable['output_type'] = 'display_data';\n",
              "        await google.colab.output.renderOutput(dataTable, element);\n",
              "        const docLink = document.createElement('div');\n",
              "        docLink.innerHTML = docLinkHtml;\n",
              "        element.appendChild(docLink);\n",
              "      }\n",
              "    </script>\n",
              "  </div>\n",
              "\n",
              "\n",
              "<div id=\"df-a01e02d5-2981-499f-9e73-6d7af27bcb8c\">\n",
              "  <button class=\"colab-df-quickchart\" onclick=\"quickchart('df-a01e02d5-2981-499f-9e73-6d7af27bcb8c')\"\n",
              "            title=\"Suggest charts\"\n",
              "            style=\"display:none;\">\n",
              "\n",
              "<svg xmlns=\"http://www.w3.org/2000/svg\" height=\"24px\"viewBox=\"0 0 24 24\"\n",
              "     width=\"24px\">\n",
              "    <g>\n",
              "        <path d=\"M19 3H5c-1.1 0-2 .9-2 2v14c0 1.1.9 2 2 2h14c1.1 0 2-.9 2-2V5c0-1.1-.9-2-2-2zM9 17H7v-7h2v7zm4 0h-2V7h2v10zm4 0h-2v-4h2v4z\"/>\n",
              "    </g>\n",
              "</svg>\n",
              "  </button>\n",
              "\n",
              "<style>\n",
              "  .colab-df-quickchart {\n",
              "      --bg-color: #E8F0FE;\n",
              "      --fill-color: #1967D2;\n",
              "      --hover-bg-color: #E2EBFA;\n",
              "      --hover-fill-color: #174EA6;\n",
              "      --disabled-fill-color: #AAA;\n",
              "      --disabled-bg-color: #DDD;\n",
              "  }\n",
              "\n",
              "  [theme=dark] .colab-df-quickchart {\n",
              "      --bg-color: #3B4455;\n",
              "      --fill-color: #D2E3FC;\n",
              "      --hover-bg-color: #434B5C;\n",
              "      --hover-fill-color: #FFFFFF;\n",
              "      --disabled-bg-color: #3B4455;\n",
              "      --disabled-fill-color: #666;\n",
              "  }\n",
              "\n",
              "  .colab-df-quickchart {\n",
              "    background-color: var(--bg-color);\n",
              "    border: none;\n",
              "    border-radius: 50%;\n",
              "    cursor: pointer;\n",
              "    display: none;\n",
              "    fill: var(--fill-color);\n",
              "    height: 32px;\n",
              "    padding: 0;\n",
              "    width: 32px;\n",
              "  }\n",
              "\n",
              "  .colab-df-quickchart:hover {\n",
              "    background-color: var(--hover-bg-color);\n",
              "    box-shadow: 0 1px 2px rgba(60, 64, 67, 0.3), 0 1px 3px 1px rgba(60, 64, 67, 0.15);\n",
              "    fill: var(--button-hover-fill-color);\n",
              "  }\n",
              "\n",
              "  .colab-df-quickchart-complete:disabled,\n",
              "  .colab-df-quickchart-complete:disabled:hover {\n",
              "    background-color: var(--disabled-bg-color);\n",
              "    fill: var(--disabled-fill-color);\n",
              "    box-shadow: none;\n",
              "  }\n",
              "\n",
              "  .colab-df-spinner {\n",
              "    border: 2px solid var(--fill-color);\n",
              "    border-color: transparent;\n",
              "    border-bottom-color: var(--fill-color);\n",
              "    animation:\n",
              "      spin 1s steps(1) infinite;\n",
              "  }\n",
              "\n",
              "  @keyframes spin {\n",
              "    0% {\n",
              "      border-color: transparent;\n",
              "      border-bottom-color: var(--fill-color);\n",
              "      border-left-color: var(--fill-color);\n",
              "    }\n",
              "    20% {\n",
              "      border-color: transparent;\n",
              "      border-left-color: var(--fill-color);\n",
              "      border-top-color: var(--fill-color);\n",
              "    }\n",
              "    30% {\n",
              "      border-color: transparent;\n",
              "      border-left-color: var(--fill-color);\n",
              "      border-top-color: var(--fill-color);\n",
              "      border-right-color: var(--fill-color);\n",
              "    }\n",
              "    40% {\n",
              "      border-color: transparent;\n",
              "      border-right-color: var(--fill-color);\n",
              "      border-top-color: var(--fill-color);\n",
              "    }\n",
              "    60% {\n",
              "      border-color: transparent;\n",
              "      border-right-color: var(--fill-color);\n",
              "    }\n",
              "    80% {\n",
              "      border-color: transparent;\n",
              "      border-right-color: var(--fill-color);\n",
              "      border-bottom-color: var(--fill-color);\n",
              "    }\n",
              "    90% {\n",
              "      border-color: transparent;\n",
              "      border-bottom-color: var(--fill-color);\n",
              "    }\n",
              "  }\n",
              "</style>\n",
              "\n",
              "  <script>\n",
              "    async function quickchart(key) {\n",
              "      const quickchartButtonEl =\n",
              "        document.querySelector('#' + key + ' button');\n",
              "      quickchartButtonEl.disabled = true;  // To prevent multiple clicks.\n",
              "      quickchartButtonEl.classList.add('colab-df-spinner');\n",
              "      try {\n",
              "        const charts = await google.colab.kernel.invokeFunction(\n",
              "            'suggestCharts', [key], {});\n",
              "      } catch (error) {\n",
              "        console.error('Error during call to suggestCharts:', error);\n",
              "      }\n",
              "      quickchartButtonEl.classList.remove('colab-df-spinner');\n",
              "      quickchartButtonEl.classList.add('colab-df-quickchart-complete');\n",
              "    }\n",
              "    (() => {\n",
              "      let quickchartButtonEl =\n",
              "        document.querySelector('#df-a01e02d5-2981-499f-9e73-6d7af27bcb8c button');\n",
              "      quickchartButtonEl.style.display =\n",
              "        google.colab.kernel.accessAllowed ? 'block' : 'none';\n",
              "    })();\n",
              "  </script>\n",
              "</div>\n",
              "\n",
              "    </div>\n",
              "  </div>\n"
            ],
            "application/vnd.google.colaboratory.intrinsic+json": {
              "type": "dataframe",
              "variable_name": "dataset",
              "summary": "{\n  \"name\": \"dataset\",\n  \"rows\": 50000,\n  \"fields\": [\n    {\n      \"column\": \"sentence\",\n      \"properties\": {\n        \"dtype\": \"string\",\n        \"num_unique_values\": 49582,\n        \"samples\": [\n          \"\\\"Soul Plane\\\" is a horrible attempt at comedy that only should appeal people with thick skulls, bloodshot eyes and furry pawns. <br /><br />The plot is not only incoherent but also non-existent, acting is mostly sub sub-par with a gang of highly moronic and dreadful characters thrown in for bad measure, jokes are often spotted miles ahead and almost never even a bit amusing. This movie lacks any structure and is full of racial stereotypes that must have seemed old even in the fifties, the only thing it really has going for it is some pretty ladies, but really, if you want that you can rent something from the \\\"Adult\\\" section. OK?<br /><br />I can hardly see anything here to recommend since you'll probably have a lot a better and productive time chasing rats with a sledgehammer or inventing waterproof teabags or whatever.<br /><br />2/10\",\n          \"Guest from the Future tells a fascinating story of time travel, friendship, battle of good and evil -- all with a small budget, child actors, and few special effects. Something for Spielberg and Lucas to learn from. ;) A sixth-grader Kolya \\\"Nick\\\" Gerasimov finds a time machine in the basement of a decrepit building and travels 100 years into the future. He discovers a near-perfect, utopian society where robots play guitars and write poetry, everyone is kind to each other and people enjoy everything technology has to offer. Alice is the daughter of a prominent scientist who invented a device called Mielophone that allows to read minds of humans and animals. The device can be put to both good and bad use, depending on whose hands it falls into. When two evil space pirates from Saturn who want to rule the universe attempt to steal Mielophone, it falls into the hands of 20th century school boy Nick. With the pirates hot on his tracks, he travels back to his time, followed by the pirates, and Alice. Chaos, confusion and funny situations follow as the luckless pirates try to blend in with the earthlings. Alice enrolls in the same school Nick goes to and demonstrates superhuman abilities in PE class. The catch is, Alice doesn't know what Nick looks like, while the pirates do. Also, the pirates are able to change their appearance and turn literally into anyone. (Hmm, I wonder if this is where James Cameron got the idea for Terminator...) Who gets to Nick -- and Mielophone -- first? Excellent plot, non-stop adventures, and great soundtrack. I wish Hollywood made kid movies like this one...\",\n          \"\\\"National Treasure\\\" (2004) is a thoroughly misguided hodge-podge of plot entanglements that borrow from nearly every cloak and dagger government conspiracy clich\\u00e9 that has ever been written. The film stars Nicholas Cage as Benjamin Franklin Gates (how precious is that, I ask you?); a seemingly normal fellow who, for no other reason than being of a lineage of like-minded misguided fortune hunters, decides to steal a 'national treasure' that has been hidden by the United States founding fathers. After a bit of subtext and background that plays laughably (unintentionally) like Indiana Jones meets The Patriot, the film degenerates into one misguided whimsy after another \\u0096 attempting to create a 'Stanley Goodspeed' regurgitation of Nicholas Cage and launch the whole convoluted mess forward with a series of high octane, but disconnected misadventures.<br /><br />The relevancy and logic to having George Washington and his motley crew of patriots burying a king's ransom someplace on native soil, and then, going through the meticulous plan of leaving clues scattered throughout U.S. currency art work, is something that director Jon Turteltaub never quite gets around to explaining. Couldn't Washington found better usage for such wealth during the start up of the country? Hence, we are left with a mystery built on top of an enigma that is already on shaky ground by the time Ben appoints himself the new custodian of this untold wealth. Ben's intentions are noble \\u0096 if confusing. He's set on protecting the treasure. For who and when?\\u0085your guess is as good as mine.<br /><br />But there are a few problems with Ben's crusade. First up, his friend, Ian Holmes (Sean Bean) decides that he can't wait for Ben to make up his mind about stealing the Declaration of Independence from the National Archives (oh, yeah \\u0096 brilliant idea!). Presumably, the back of that famous document holds the secret answer to the ultimate fortune. So Ian tries to kill Ben. The assassination attempt is, of course, unsuccessful, if overly melodramatic. It also affords Ben the opportunity to pick up, and pick on, the very sultry curator of the archives, Abigail Chase (Diane Kruger). She thinks Ben is clearly a nut \\u0096 at least at the beginning. But true to action/romance form, Abby's resolve melts quicker than you can say, \\\"is that the Hope Diamond?\\\" The film moves into full X-File-ish mode, as the FBI, mistakenly believing that Ben is behind the theft, retaliate in various benign ways that lead to a multi-layering of action sequences reminiscent of Mission Impossible meets The Fugitive. Honestly, don't those guys ever get 'intelligence' information that is correct? In the final analysis, \\\"National Treasure\\\" isn't great film making, so much as it's a patchwork rehash of tired old bits from other movies, woven together from scraps, the likes of which would make IL' Betsy Ross blush.<br /><br />The Buena Vista DVD delivers a far more generous treatment than this film is deserving of. The anamorphic widescreen picture exhibits a very smooth and finely detailed image with very rich colors, natural flesh tones, solid blacks and clean whites. The stylized image is also free of blemishes and digital enhancements. The audio is 5.1 and delivers a nice sonic boom to your side and rear speakers with intensity and realism. Extras include a host of promotional junket material that is rather deep and over the top in its explanation of how and why this film was made. If only, as an audience, we had had more clarification as to why Ben and co. were chasing after an illusive treasure, this might have been one good flick. Extras conclude with the theatrical trailer, audio commentary and deleted scenes. Not for the faint-hearted \\u0096 just the thick-headed.\"\n        ],\n        \"semantic_type\": \"\",\n        \"description\": \"\"\n      }\n    },\n    {\n      \"column\": \"flag\",\n      \"properties\": {\n        \"dtype\": \"category\",\n        \"num_unique_values\": 2,\n        \"samples\": [\n          \"0\",\n          \"1\"\n        ],\n        \"semantic_type\": \"\",\n        \"description\": \"\"\n      }\n    }\n  ]\n}"
            }
          },
          "metadata": {},
          "execution_count": 4
        }
      ]
    },
    {
      "cell_type": "code",
      "source": [
        "X = dataset[['sentence']].to_numpy()\n",
        "y = dataset[['flag']].to_numpy()\n",
        "X[:2]"
      ],
      "metadata": {
        "colab": {
          "base_uri": "https://localhost:8080/"
        },
        "id": "IqmHGSLF3dDe",
        "outputId": "675b746a-97cf-48af-d277-70aca8ba3625"
      },
      "execution_count": 5,
      "outputs": [
        {
          "output_type": "execute_result",
          "data": {
            "text/plain": [
              "array([[\"One of the other reviewers has mentioned that after watching just 1 Oz episode you'll be hooked. They are right, as this is exactly what happened with me.<br /><br />The first thing that struck me about Oz was its brutality and unflinching scenes of violence, which set in right from the word GO. Trust me, this is not a show for the faint hearted or timid. This show pulls no punches with regards to drugs, sex or violence. Its is hardcore, in the classic use of the word.<br /><br />It is called OZ as that is the nickname given to the Oswald Maximum Security State Penitentary. It focuses mainly on Emerald City, an experimental section of the prison where all the cells have glass fronts and face inwards, so privacy is not high on the agenda. Em City is home to many..Aryans, Muslims, gangstas, Latinos, Christians, Italians, Irish and more....so scuffles, death stares, dodgy dealings and shady agreements are never far away.<br /><br />I would say the main appeal of the show is due to the fact that it goes where other shows wouldn't dare. Forget pretty pictures painted for mainstream audiences, forget charm, forget romance...OZ doesn't mess around. The first episode I ever saw struck me as so nasty it was surreal, I couldn't say I was ready for it, but as I watched more, I developed a taste for Oz, and got accustomed to the high levels of graphic violence. Not just violence, but injustice (crooked guards who'll be sold out for a nickel, inmates who'll kill on order and get away with it, well mannered, middle class inmates being turned into prison bitches due to their lack of street skills or prison experience) Watching Oz, you may become comfortable with what is uncomfortable viewing....thats if you can get in touch with your darker side.\"],\n",
              "       ['A wonderful little production. <br /><br />The filming technique is very unassuming- very old-time-BBC fashion and gives a comforting, and sometimes discomforting, sense of realism to the entire piece. <br /><br />The actors are extremely well chosen- Michael Sheen not only \"has got all the polari\" but he has all the voices down pat too! You can truly see the seamless editing guided by the references to Williams\\' diary entries, not only is it well worth the watching but it is a terrificly written and performed piece. A masterful production about one of the great master\\'s of comedy and his life. <br /><br />The realism really comes home with the little things: the fantasy of the guard which, rather than use the traditional \\'dream\\' techniques remains solid then disappears. It plays on our knowledge and our senses, particularly with the scenes concerning Orton and Halliwell and the sets (particularly of their flat with Halliwell\\'s murals decorating every surface) are terribly well done.']],\n",
              "      dtype=object)"
            ]
          },
          "metadata": {},
          "execution_count": 5
        }
      ]
    },
    {
      "cell_type": "code",
      "source": [
        "from sklearn.model_selection import train_test_split\n",
        "X_train, X_test, y_train, y_test = train_test_split(X, y, test_size = 0.2, random_state = 0)\n",
        "X_train[:2]"
      ],
      "metadata": {
        "colab": {
          "base_uri": "https://localhost:8080/"
        },
        "id": "JWczdtp23j-e",
        "outputId": "92bc0192-f451-456d-bf0b-43204734fdb6"
      },
      "execution_count": 18,
      "outputs": [
        {
          "output_type": "execute_result",
          "data": {
            "text/plain": [
              "array([[\"That's about the only redeeming quality in a movie that otherwise insults the viewer's intelligence by losing track of time, plot, and reason for being produced.<br /><br />Plus, how that guy with the glasses ever got a gig in Hollywood is beyond me.\"],\n",
              "       ['Even if I had not read Anne Rice\\'s \"Queen of the Damned\" from the \"Vampire Chronicles,\" I probably would still have thought this movie was just awful.<br /><br />It was tasteless, plot-less, it made absolutely no sense at all. I sat for a while pondering the plot disassociated from the book, and the longer I thought of it, the worse it was. To associate it in any way with the prior Chronicles film is ridiculous as it is ridiculously inconsistent with that movie, let alone the book. The bare few ideas taken from Rice\\'s genius in \"The Vampire Chronicles\" were butchered and ridiculed.<br /><br />It is an absolute insult to Anne Rice fans everywhere and such a pathetic excuse for a legacy in being Aaliyah\\'s last film. Truly, it\\'s an insult to Aaliyah fans as well.<br /><br />Possibly the only compliment can be paid to the sound effects as well as some of the graphics. Good as they may be, it is still not at all enough to make me regret the time spent watching this movie. As a matter of fact, I signed up for this membership for the sole reason of communicating to people bothering to look at this film (7 years after the release, as it may be) to not waste their time or expect much beyond disappointment.']],\n",
              "      dtype=object)"
            ]
          },
          "metadata": {},
          "execution_count": 18
        }
      ]
    },
    {
      "cell_type": "code",
      "source": [
        "y_train[:10]"
      ],
      "metadata": {
        "colab": {
          "base_uri": "https://localhost:8080/"
        },
        "id": "9j9dSKoL3m5u",
        "outputId": "62e23fb3-a409-48cb-89ab-fd735337e67e"
      },
      "execution_count": 19,
      "outputs": [
        {
          "output_type": "execute_result",
          "data": {
            "text/plain": [
              "array([['0'],\n",
              "       ['0'],\n",
              "       ['1'],\n",
              "       ['1'],\n",
              "       ['0'],\n",
              "       ['1'],\n",
              "       ['1'],\n",
              "       ['1'],\n",
              "       ['1'],\n",
              "       ['1']], dtype=object)"
            ]
          },
          "metadata": {},
          "execution_count": 19
        }
      ]
    },
    {
      "cell_type": "code",
      "source": [
        "X_train = np.array([item for sublist in X_train for item in sublist])\n",
        "X_test = np.array([item for sublist in X_test for item in sublist])\n",
        "X_train[:2]"
      ],
      "metadata": {
        "colab": {
          "base_uri": "https://localhost:8080/"
        },
        "id": "jQ5RG_RI3qIo",
        "outputId": "1a7a4fec-aa2f-4209-fdbd-fcb5e56a7a00"
      },
      "execution_count": 20,
      "outputs": [
        {
          "output_type": "execute_result",
          "data": {
            "text/plain": [
              "array([\"That's about the only redeeming quality in a movie that otherwise insults the viewer's intelligence by losing track of time, plot, and reason for being produced.<br /><br />Plus, how that guy with the glasses ever got a gig in Hollywood is beyond me.\",\n",
              "       'Even if I had not read Anne Rice\\'s \"Queen of the Damned\" from the \"Vampire Chronicles,\" I probably would still have thought this movie was just awful.<br /><br />It was tasteless, plot-less, it made absolutely no sense at all. I sat for a while pondering the plot disassociated from the book, and the longer I thought of it, the worse it was. To associate it in any way with the prior Chronicles film is ridiculous as it is ridiculously inconsistent with that movie, let alone the book. The bare few ideas taken from Rice\\'s genius in \"The Vampire Chronicles\" were butchered and ridiculed.<br /><br />It is an absolute insult to Anne Rice fans everywhere and such a pathetic excuse for a legacy in being Aaliyah\\'s last film. Truly, it\\'s an insult to Aaliyah fans as well.<br /><br />Possibly the only compliment can be paid to the sound effects as well as some of the graphics. Good as they may be, it is still not at all enough to make me regret the time spent watching this movie. As a matter of fact, I signed up for this membership for the sole reason of communicating to people bothering to look at this film (7 years after the release, as it may be) to not waste their time or expect much beyond disappointment.'],\n",
              "      dtype='<U13704')"
            ]
          },
          "metadata": {},
          "execution_count": 20
        }
      ]
    },
    {
      "cell_type": "code",
      "source": [
        "y_train = np.array([item for sublist in y_train for item in sublist])\n",
        "y_test = np.array([item for sublist in y_test for item in sublist])\n",
        "y_train[:10]"
      ],
      "metadata": {
        "colab": {
          "base_uri": "https://localhost:8080/"
        },
        "id": "PxuM3owI3uzR",
        "outputId": "e6a1b51c-746b-4716-9400-6c98c00a1eeb"
      },
      "execution_count": 21,
      "outputs": [
        {
          "output_type": "execute_result",
          "data": {
            "text/plain": [
              "array(['0', '0', '1', '1', '0', '1', '1', '1', '1', '1'], dtype='<U1')"
            ]
          },
          "metadata": {},
          "execution_count": 21
        }
      ]
    },
    {
      "cell_type": "code",
      "source": [
        "X_train[0:2]"
      ],
      "metadata": {
        "colab": {
          "base_uri": "https://localhost:8080/"
        },
        "id": "LYGwtJaE31Sf",
        "outputId": "d4f36515-6d99-4b07-d329-a07a1e682434"
      },
      "execution_count": 22,
      "outputs": [
        {
          "output_type": "execute_result",
          "data": {
            "text/plain": [
              "array([\"That's about the only redeeming quality in a movie that otherwise insults the viewer's intelligence by losing track of time, plot, and reason for being produced.<br /><br />Plus, how that guy with the glasses ever got a gig in Hollywood is beyond me.\",\n",
              "       'Even if I had not read Anne Rice\\'s \"Queen of the Damned\" from the \"Vampire Chronicles,\" I probably would still have thought this movie was just awful.<br /><br />It was tasteless, plot-less, it made absolutely no sense at all. I sat for a while pondering the plot disassociated from the book, and the longer I thought of it, the worse it was. To associate it in any way with the prior Chronicles film is ridiculous as it is ridiculously inconsistent with that movie, let alone the book. The bare few ideas taken from Rice\\'s genius in \"The Vampire Chronicles\" were butchered and ridiculed.<br /><br />It is an absolute insult to Anne Rice fans everywhere and such a pathetic excuse for a legacy in being Aaliyah\\'s last film. Truly, it\\'s an insult to Aaliyah fans as well.<br /><br />Possibly the only compliment can be paid to the sound effects as well as some of the graphics. Good as they may be, it is still not at all enough to make me regret the time spent watching this movie. As a matter of fact, I signed up for this membership for the sole reason of communicating to people bothering to look at this film (7 years after the release, as it may be) to not waste their time or expect much beyond disappointment.'],\n",
              "      dtype='<U13704')"
            ]
          },
          "metadata": {},
          "execution_count": 22
        }
      ]
    },
    {
      "cell_type": "code",
      "source": [
        "model = \"https://tfhub.dev/google/nnlm-en-dim128-with-normalization/2\"\n",
        "hub_layer = hub.KerasLayer(model, input_shape=[], dtype=tf.string, trainable=True)\n",
        "hub_layer(X_train[len(X_train)-2:len(X_train)])"
      ],
      "metadata": {
        "colab": {
          "base_uri": "https://localhost:8080/"
        },
        "id": "qrSIlA0634mp",
        "outputId": "300bc8a5-a595-47d5-cb5e-778744e7612c"
      },
      "execution_count": 23,
      "outputs": [
        {
          "output_type": "execute_result",
          "data": {
            "text/plain": [
              "<tf.Tensor: shape=(2, 128), dtype=float32, numpy=\n",
              "array([[ 1.59491873e+00,  1.41812369e-01,  1.10425450e-01,\n",
              "         3.43806893e-01, -3.98621196e-03, -1.65086761e-02,\n",
              "         4.88439649e-01, -2.08734557e-01, -1.74762309e-01,\n",
              "         2.89675981e-01,  1.54918790e-01, -5.35906494e-01,\n",
              "        -3.82214218e-01, -2.47158006e-01, -1.56071171e-01,\n",
              "         1.71942115e-01, -1.54007420e-01, -3.34906988e-02,\n",
              "        -1.93091333e-01,  1.13212538e+00,  2.07557783e-01,\n",
              "         1.44015029e-01, -1.50931654e-02,  2.05680475e-01,\n",
              "        -4.69845049e-02, -2.74139911e-01,  1.22281484e-01,\n",
              "        -9.68960952e-03,  3.75777036e-02,  5.09425364e-02,\n",
              "        -1.26542062e-01,  2.57640749e-01,  1.95935190e-01,\n",
              "        -1.27834588e-01,  3.48216653e-01, -5.26366420e-02,\n",
              "        -1.52312502e-01, -2.68741041e-01, -2.54206896e-01,\n",
              "         3.73292774e-01, -1.83248341e-01, -3.88102941e-02,\n",
              "        -4.62608784e-03, -2.80617625e-02,  6.80334270e-02,\n",
              "         1.41570479e-01,  1.67977229e-01,  2.09178496e-02,\n",
              "        -1.14781059e-01,  1.84455559e-01,  2.36966267e-01,\n",
              "         6.07212894e-02, -7.51315579e-02,  1.52319402e-01,\n",
              "        -1.08914874e-01, -1.61891058e-01, -1.31608211e-02,\n",
              "         3.96882258e-02,  2.85844475e-01,  1.29121421e-02,\n",
              "        -1.18735373e-01,  1.58703521e-01,  1.77225351e-01,\n",
              "        -1.83632314e-01, -7.39593282e-02,  2.62648195e-01,\n",
              "        -2.92120427e-02, -1.74358532e-01,  2.12288976e-01,\n",
              "         1.01698913e-01, -2.03595400e-01,  1.02025189e-01,\n",
              "        -8.62408876e-02,  1.10658199e-01,  1.20459693e-02,\n",
              "         4.00403410e-01, -1.49023041e-01,  3.61849368e-03,\n",
              "        -1.34333208e-01,  9.28701982e-02,  2.69332021e-01,\n",
              "        -1.27939969e-01, -7.13008940e-02, -6.11488558e-02,\n",
              "        -1.27408072e-01,  3.30785103e-02, -5.13589323e-01,\n",
              "         9.80307460e-02,  8.28119278e-01,  5.92047155e-01,\n",
              "         3.49718668e-02,  1.31408319e-01, -2.76140183e-01,\n",
              "        -1.45283327e-01, -2.12944429e-02, -3.25696766e-02,\n",
              "         2.17929035e-02, -2.23524153e-01,  3.09834570e-01,\n",
              "         6.36398420e-02,  2.64253747e-02,  3.16215344e-02,\n",
              "         4.72473145e-01, -5.87104969e-02, -4.30202633e-02,\n",
              "        -9.88148078e-02,  2.08226163e-02,  1.65538147e-01,\n",
              "        -1.64748654e-01,  1.96750145e-02, -4.57356334e-01,\n",
              "         1.47832902e-02, -3.64331633e-01, -2.50548601e-01,\n",
              "        -2.66065393e-02, -2.46949688e-01,  7.06535578e-02,\n",
              "        -5.06980754e-02, -1.07158042e-01,  8.77637044e-02,\n",
              "         1.54478177e-01, -2.95783609e-01, -4.26472537e-02,\n",
              "         8.41521695e-02, -7.58709237e-02, -4.76221532e-01,\n",
              "         2.30522886e-01, -7.77364597e-02],\n",
              "       [ 1.56041741e+00,  1.73644170e-01,  6.36172518e-02,\n",
              "         2.53345400e-01, -1.31988019e-01,  1.50652349e-01,\n",
              "         2.49041051e-01, -1.46321118e-01, -1.13901772e-01,\n",
              "         2.99174279e-01,  1.26094267e-01, -5.06599128e-01,\n",
              "        -5.54894149e-01, -7.50322416e-02, -4.20778453e-01,\n",
              "        -5.72718084e-02, -1.52735457e-01,  9.39283818e-02,\n",
              "        -3.19851756e-01,  8.07172477e-01,  1.24614172e-01,\n",
              "         2.34440133e-01,  9.59016234e-02,  1.78409994e-01,\n",
              "         1.26405135e-02, -5.67557178e-02,  1.73283622e-01,\n",
              "        -1.88100770e-01, -5.71059994e-02,  1.07425243e-01,\n",
              "        -7.25857764e-02, -2.93828244e-03,  1.85562029e-01,\n",
              "        -1.14033939e-02,  3.14193964e-01, -4.03243080e-02,\n",
              "        -4.22598481e-01, -2.16146499e-01, -1.82812303e-01,\n",
              "         3.61033648e-01, -7.81257525e-02,  3.19262706e-02,\n",
              "        -4.31919657e-03,  1.73858494e-01,  6.53688312e-02,\n",
              "         1.30264238e-01,  1.55096292e-01, -1.41086444e-01,\n",
              "         2.89909631e-01, -8.95373300e-02,  1.75217137e-01,\n",
              "        -2.33891934e-01, -1.23437736e-02,  1.91644296e-01,\n",
              "        -4.80016880e-02, -7.01510683e-02,  3.90989333e-01,\n",
              "         1.02766208e-01,  2.55522523e-02, -9.37384740e-03,\n",
              "        -1.02478750e-01,  2.33775467e-01, -6.09171353e-02,\n",
              "        -1.87222734e-01, -3.94182727e-02,  2.41060361e-01,\n",
              "        -1.81011754e-04, -2.77620405e-01,  3.84824604e-01,\n",
              "         6.83224574e-02, -1.17604449e-01,  7.78614581e-02,\n",
              "        -2.40541101e-01, -1.02527469e-01, -1.26516804e-01,\n",
              "         5.06198466e-01,  3.85620557e-02, -3.34493726e-01,\n",
              "        -2.30692793e-02,  1.13920495e-01,  2.38362610e-01,\n",
              "        -1.10881329e-02, -2.21558511e-01, -1.27393410e-01,\n",
              "         5.26437238e-02, -2.81927036e-03, -5.44148386e-01,\n",
              "         7.78947845e-02,  1.01837838e+00,  6.87766194e-01,\n",
              "        -5.47274537e-02,  1.83393478e-01, -2.39976689e-01,\n",
              "        -2.69038647e-01,  1.46724150e-01, -3.28645967e-02,\n",
              "         1.24101564e-01, -2.77024686e-01,  4.52447310e-02,\n",
              "        -8.68143216e-02,  4.71665012e-03,  1.27824232e-01,\n",
              "         2.81304121e-01,  2.33367905e-01, -7.57087842e-02,\n",
              "        -1.33278266e-01, -2.43658703e-02,  8.94963965e-02,\n",
              "        -3.25464249e-01,  8.05284902e-02, -4.80910838e-01,\n",
              "        -1.49643198e-01, -1.66061863e-01, -2.49817222e-01,\n",
              "         1.33119393e-02, -3.23157370e-01,  3.50283921e-01,\n",
              "        -5.93938567e-02,  1.29807487e-01, -4.08345945e-02,\n",
              "         1.08893365e-01, -3.50606322e-01, -1.15740314e-01,\n",
              "         3.62215757e-01, -1.57394886e-01, -3.36132050e-01,\n",
              "         1.24424532e-01,  4.17261086e-02]], dtype=float32)>"
            ]
          },
          "metadata": {},
          "execution_count": 23
        }
      ]
    },
    {
      "cell_type": "code",
      "source": [
        "model = tf.keras.Sequential()\n",
        "model.add(hub_layer)\n",
        "model.add(tf.keras.layers.Dense(16, activation='relu'))\n",
        "model.add(tf.keras.layers.Dense(1))\n",
        "\n",
        "model.summary()"
      ],
      "metadata": {
        "colab": {
          "base_uri": "https://localhost:8080/"
        },
        "id": "q_JuCPNE4MGP",
        "outputId": "e73a449d-91ff-41d4-cd96-4a8f71069700"
      },
      "execution_count": 24,
      "outputs": [
        {
          "output_type": "stream",
          "name": "stdout",
          "text": [
            "Model: \"sequential_1\"\n",
            "_________________________________________________________________\n",
            " Layer (type)                Output Shape              Param #   \n",
            "=================================================================\n",
            " keras_layer_1 (KerasLayer)  (None, 128)               124642688 \n",
            "                                                                 \n",
            " dense_2 (Dense)             (None, 16)                2064      \n",
            "                                                                 \n",
            " dense_3 (Dense)             (None, 1)                 17        \n",
            "                                                                 \n",
            "=================================================================\n",
            "Total params: 124644769 (475.48 MB)\n",
            "Trainable params: 124644769 (475.48 MB)\n",
            "Non-trainable params: 0 (0.00 Byte)\n",
            "_________________________________________________________________\n"
          ]
        }
      ]
    },
    {
      "cell_type": "code",
      "source": [
        "model.compile(optimizer='adam',\n",
        "              loss=tf.losses.BinaryCrossentropy(from_logits=True),\n",
        "              metrics=[tf.metrics.BinaryAccuracy(threshold=0.0, name='accuracy')])"
      ],
      "metadata": {
        "id": "cI9Ulzcx4N7z"
      },
      "execution_count": 25,
      "outputs": []
    },
    {
      "cell_type": "code",
      "source": [
        "y_train = y_train.astype(float)\n",
        "y_test = y_test.astype(float)\n",
        "\n",
        "history = model.fit(\n",
        "    X_train,\n",
        "    y_train,\n",
        "    epochs=3,\n",
        "    batch_size=512,\n",
        "    validation_data=(X_test, y_test),\n",
        "    verbose=1\n",
        ")"
      ],
      "metadata": {
        "colab": {
          "base_uri": "https://localhost:8080/"
        },
        "id": "do3UW0Xd4b5Y",
        "outputId": "dc67787c-c1db-4625-93ac-73353b6ee526"
      },
      "execution_count": 27,
      "outputs": [
        {
          "output_type": "stream",
          "name": "stdout",
          "text": [
            "Epoch 1/3\n",
            "79/79 [==============================] - 337s 4s/step - loss: 0.0842 - accuracy: 0.9750 - val_loss: 0.2659 - val_accuracy: 0.8983\n",
            "Epoch 2/3\n",
            "79/79 [==============================] - 329s 4s/step - loss: 0.0492 - accuracy: 0.9886 - val_loss: 0.2838 - val_accuracy: 0.8986\n",
            "Epoch 3/3\n",
            "79/79 [==============================] - 332s 4s/step - loss: 0.0275 - accuracy: 0.9957 - val_loss: 0.3231 - val_accuracy: 0.8959\n"
          ]
        }
      ]
    },
    {
      "cell_type": "code",
      "source": [
        "results = model.evaluate(X_test, y_test)\n",
        "print(results)"
      ],
      "metadata": {
        "colab": {
          "base_uri": "https://localhost:8080/"
        },
        "id": "YPPhhqlb4tjR",
        "outputId": "7aa5b8f3-5344-4833-fe75-4ca377eef916"
      },
      "execution_count": 28,
      "outputs": [
        {
          "output_type": "stream",
          "name": "stdout",
          "text": [
            "313/313 [==============================] - 184s 585ms/step - loss: 0.3231 - accuracy: 0.8959\n",
            "[0.3231056332588196, 0.8959000110626221]\n"
          ]
        }
      ]
    },
    {
      "cell_type": "code",
      "source": [
        "predictions = model.predict(X_train[:10])"
      ],
      "metadata": {
        "colab": {
          "base_uri": "https://localhost:8080/"
        },
        "id": "JqiQkrk-4wQl",
        "outputId": "658354f9-2479-4ada-f340-74f0ffa7d8a9"
      },
      "execution_count": 29,
      "outputs": [
        {
          "output_type": "stream",
          "name": "stdout",
          "text": [
            "1/1 [==============================] - 1s 843ms/step\n"
          ]
        }
      ]
    },
    {
      "cell_type": "code",
      "source": [
        "print(y_train[:10])"
      ],
      "metadata": {
        "colab": {
          "base_uri": "https://localhost:8080/"
        },
        "id": "qGrrrFbI40ta",
        "outputId": "06f8de38-1678-408f-901b-f672528f5159"
      },
      "execution_count": 30,
      "outputs": [
        {
          "output_type": "stream",
          "name": "stdout",
          "text": [
            "[0. 0. 1. 1. 0. 1. 1. 1. 1. 1.]\n"
          ]
        }
      ]
    },
    {
      "cell_type": "code",
      "source": [
        "print(predictions[:10])"
      ],
      "metadata": {
        "colab": {
          "base_uri": "https://localhost:8080/"
        },
        "id": "oFdI25AU42QF",
        "outputId": "08e02d94-6fdf-4183-aeb4-51250876a7a2"
      },
      "execution_count": 31,
      "outputs": [
        {
          "output_type": "stream",
          "name": "stdout",
          "text": [
            "[[ -4.9437504]\n",
            " [-10.021358 ]\n",
            " [ 12.923259 ]\n",
            " [  6.949359 ]\n",
            " [ -8.317462 ]\n",
            " [  5.921585 ]\n",
            " [  2.9752421]\n",
            " [  4.5743437]\n",
            " [  7.046691 ]\n",
            " [  8.744713 ]]\n"
          ]
        }
      ]
    },
    {
      "cell_type": "code",
      "source": [
        "history_dict = history.history\n",
        "history_dict.keys()"
      ],
      "metadata": {
        "colab": {
          "base_uri": "https://localhost:8080/"
        },
        "id": "eAeuTjyo46wi",
        "outputId": "03a144f5-de07-4fea-deb8-5adeb7828c04"
      },
      "execution_count": 33,
      "outputs": [
        {
          "output_type": "execute_result",
          "data": {
            "text/plain": [
              "dict_keys(['loss', 'accuracy', 'val_loss', 'val_accuracy'])"
            ]
          },
          "metadata": {},
          "execution_count": 33
        }
      ]
    },
    {
      "cell_type": "code",
      "source": [
        "acc = history_dict['accuracy']\n",
        "val_acc = history_dict['val_accuracy']\n",
        "loss = history_dict['loss']\n",
        "val_loss = history_dict['val_loss']\n",
        "\n",
        "epochs = range(1, len(acc) + 1)\n",
        "\n",
        "# \"bo\" is for \"blue dot\"\n",
        "plt.plot(epochs, loss, 'bo', label='Training loss')\n",
        "# b is for \"solid blue line\"\n",
        "plt.plot(epochs, val_loss, 'b', label='Validation loss')\n",
        "plt.title('Training and validation loss')\n",
        "plt.xlabel('Epochs')\n",
        "plt.ylabel('Loss')\n",
        "plt.legend()\n",
        "\n",
        "plt.show()"
      ],
      "metadata": {
        "colab": {
          "base_uri": "https://localhost:8080/",
          "height": 472
        },
        "id": "obQAbfGc5AnH",
        "outputId": "48e9c546-8e96-4c44-8736-531a25a08e5e"
      },
      "execution_count": 34,
      "outputs": [
        {
          "output_type": "display_data",
          "data": {
            "text/plain": [
              "<Figure size 640x480 with 1 Axes>"
            ],
            "image/png": "[encoded data removed]"
          },
          "metadata": {}
        }
      ]
    },
    {
      "cell_type": "code",
      "source": [
        "plt.clf()   # clear figure\n",
        "\n",
        "plt.plot(epochs, acc, 'bo', label='Training acc')\n",
        "plt.plot(epochs, val_acc, 'b', label='Validation acc')\n",
        "plt.title('Training and validation accuracy')\n",
        "plt.xlabel('Epochs')\n",
        "plt.ylabel('Accuracy')\n",
        "plt.legend()\n",
        "\n",
        "plt.show()"
      ],
      "metadata": {
        "colab": {
          "base_uri": "https://localhost:8080/",
          "height": 472
        },
        "id": "wniToN8g5CBQ",
        "outputId": "fbedcbe4-c640-4e48-b6e0-5d6f797ca7cc"
      },
      "execution_count": 35,
      "outputs": [
        {
          "output_type": "display_data",
          "data": {
            "text/plain": [
              "<Figure size 640x480 with 1 Axes>"
            ],
            "image/png": "[encoded data removed]"
          },
          "metadata": {}
        }
      ]
    }
  ],
  "metadata": {
    "colab": {
      "provenance": [],
      "include_colab_link": true
    },
    "kernelspec": {
      "display_name": "Python 3",
      "name": "python3"
    }
  },
  "nbformat": 4,
  "nbformat_minor": 0
}